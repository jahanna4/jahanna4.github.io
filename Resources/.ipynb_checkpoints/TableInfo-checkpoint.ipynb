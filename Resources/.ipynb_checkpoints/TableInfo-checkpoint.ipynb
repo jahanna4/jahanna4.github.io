{
 "cells": [
  {
   "cell_type": "code",
   "execution_count": 1,
   "metadata": {},
   "outputs": [],
   "source": [
    "import pandas as pd"
   ]
  },
  {
   "cell_type": "code",
   "execution_count": 5,
   "metadata": {},
   "outputs": [
    {
     "data": {
      "text/html": [
       "<div>\n",
       "<style scoped>\n",
       "    .dataframe tbody tr th:only-of-type {\n",
       "        vertical-align: middle;\n",
       "    }\n",
       "\n",
       "    .dataframe tbody tr th {\n",
       "        vertical-align: top;\n",
       "    }\n",
       "\n",
       "    .dataframe thead th {\n",
       "        text-align: right;\n",
       "    }\n",
       "</style>\n",
       "<table border=\"1\" class=\"dataframe\">\n",
       "  <thead>\n",
       "    <tr style=\"text-align: right;\">\n",
       "      <th></th>\n",
       "      <th>Unnamed: 0</th>\n",
       "      <th>City</th>\n",
       "      <th>Cloudiness</th>\n",
       "      <th>Country</th>\n",
       "      <th>Date</th>\n",
       "      <th>Humidity</th>\n",
       "      <th>Lat</th>\n",
       "      <th>Lng</th>\n",
       "      <th>Max Temp</th>\n",
       "      <th>Wind Speed</th>\n",
       "    </tr>\n",
       "  </thead>\n",
       "  <tbody>\n",
       "    <tr>\n",
       "      <td>533</td>\n",
       "      <td>533</td>\n",
       "      <td>Skjervøy</td>\n",
       "      <td>98</td>\n",
       "      <td>NO</td>\n",
       "      <td>1589156877</td>\n",
       "      <td>82</td>\n",
       "      <td>70.03</td>\n",
       "      <td>20.97</td>\n",
       "      <td>274.73</td>\n",
       "      <td>4.58</td>\n",
       "    </tr>\n",
       "    <tr>\n",
       "      <td>534</td>\n",
       "      <td>534</td>\n",
       "      <td>Shangzhi</td>\n",
       "      <td>76</td>\n",
       "      <td>CN</td>\n",
       "      <td>1589156877</td>\n",
       "      <td>63</td>\n",
       "      <td>45.22</td>\n",
       "      <td>127.97</td>\n",
       "      <td>284.87</td>\n",
       "      <td>5.68</td>\n",
       "    </tr>\n",
       "    <tr>\n",
       "      <td>535</td>\n",
       "      <td>535</td>\n",
       "      <td>Pital</td>\n",
       "      <td>78</td>\n",
       "      <td>CO</td>\n",
       "      <td>1589156877</td>\n",
       "      <td>82</td>\n",
       "      <td>2.27</td>\n",
       "      <td>-75.80</td>\n",
       "      <td>294.64</td>\n",
       "      <td>2.46</td>\n",
       "    </tr>\n",
       "    <tr>\n",
       "      <td>536</td>\n",
       "      <td>536</td>\n",
       "      <td>Douentza</td>\n",
       "      <td>51</td>\n",
       "      <td>ML</td>\n",
       "      <td>1589156877</td>\n",
       "      <td>35</td>\n",
       "      <td>15.00</td>\n",
       "      <td>-2.95</td>\n",
       "      <td>304.10</td>\n",
       "      <td>2.82</td>\n",
       "    </tr>\n",
       "    <tr>\n",
       "      <td>537</td>\n",
       "      <td>537</td>\n",
       "      <td>Española</td>\n",
       "      <td>1</td>\n",
       "      <td>US</td>\n",
       "      <td>1589156877</td>\n",
       "      <td>18</td>\n",
       "      <td>35.99</td>\n",
       "      <td>-106.08</td>\n",
       "      <td>296.48</td>\n",
       "      <td>3.60</td>\n",
       "    </tr>\n",
       "  </tbody>\n",
       "</table>\n",
       "</div>"
      ],
      "text/plain": [
       "     Unnamed: 0      City  Cloudiness Country        Date  Humidity    Lat  \\\n",
       "533         533  Skjervøy          98      NO  1589156877        82  70.03   \n",
       "534         534  Shangzhi          76      CN  1589156877        63  45.22   \n",
       "535         535     Pital          78      CO  1589156877        82   2.27   \n",
       "536         536  Douentza          51      ML  1589156877        35  15.00   \n",
       "537         537  Española           1      US  1589156877        18  35.99   \n",
       "\n",
       "        Lng  Max Temp  Wind Speed  \n",
       "533   20.97    274.73        4.58  \n",
       "534  127.97    284.87        5.68  \n",
       "535  -75.80    294.64        2.46  \n",
       "536   -2.95    304.10        2.82  \n",
       "537 -106.08    296.48        3.60  "
      ]
     },
     "execution_count": 5,
     "metadata": {},
     "output_type": "execute_result"
    }
   ],
   "source": [
    "data = \"cities.csv\"\n",
    "cities_df = pd.read_csv(data)\n",
    "cities_df.tail()"
   ]
  },
  {
   "cell_type": "code",
   "execution_count": 17,
   "metadata": {},
   "outputs": [
    {
     "ename": "TypeError",
     "evalue": "to_html() got an unexpected keyword argument 'encoding'",
     "output_type": "error",
     "traceback": [
      "\u001b[1;31m---------------------------------------------------------------------------\u001b[0m",
      "\u001b[1;31mTypeError\u001b[0m                                 Traceback (most recent call last)",
      "\u001b[1;32m<ipython-input-17-56301a6ac750>\u001b[0m in \u001b[0;36m<module>\u001b[1;34m\u001b[0m\n\u001b[0;32m      1\u001b[0m \u001b[0moutput_location\u001b[0m \u001b[1;33m=\u001b[0m \u001b[1;34m\"cities.html\"\u001b[0m\u001b[1;33m\u001b[0m\u001b[1;33m\u001b[0m\u001b[0m\n\u001b[1;32m----> 2\u001b[1;33m \u001b[0mcities_df\u001b[0m\u001b[1;33m.\u001b[0m\u001b[0mto_html\u001b[0m\u001b[1;33m(\u001b[0m\u001b[0moutput_location\u001b[0m\u001b[1;33m,\u001b[0m \u001b[0mencoding\u001b[0m\u001b[1;33m=\u001b[0m\u001b[1;34m\"utf-8\"\u001b[0m\u001b[1;33m)\u001b[0m\u001b[1;33m\u001b[0m\u001b[1;33m\u001b[0m\u001b[0m\n\u001b[0m",
      "\u001b[1;31mTypeError\u001b[0m: to_html() got an unexpected keyword argument 'encoding'"
     ]
    }
   ],
   "source": [
    "output_location = \"cities.html\"\n",
    "cities_df.to_html(output_location)"
   ]
  },
  {
   "cell_type": "code",
   "execution_count": null,
   "metadata": {},
   "outputs": [],
   "source": []
  }
 ],
 "metadata": {
  "kernelspec": {
   "display_name": "Python 3",
   "language": "python",
   "name": "python3"
  },
  "language_info": {
   "codemirror_mode": {
    "name": "ipython",
    "version": 3
   },
   "file_extension": ".py",
   "mimetype": "text/x-python",
   "name": "python",
   "nbconvert_exporter": "python",
   "pygments_lexer": "ipython3",
   "version": "3.7.4"
  }
 },
 "nbformat": 4,
 "nbformat_minor": 4
}
